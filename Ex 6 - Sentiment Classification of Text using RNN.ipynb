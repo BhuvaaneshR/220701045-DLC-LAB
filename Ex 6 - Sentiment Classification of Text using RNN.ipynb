{
 "cells": [
  {
   "cell_type": "code",
   "execution_count": 2,
   "id": "4617cee9",
   "metadata": {},
   "outputs": [
    {
     "name": "stdout",
     "output_type": "stream",
     "text": [
      "Downloading data from https://storage.googleapis.com/tensorflow/tf-keras-datasets/imdb.npz\n",
      "17464789/17464789 [==============================] - 3s 0us/step\n",
      "Training...\n",
      "Epoch 1/2\n",
      "313/313 [==============================] - 54s 157ms/step - loss: 0.6289 - accuracy: 0.6499 - val_loss: 1.1249 - val_accuracy: 0.5252\n",
      "Epoch 2/2\n",
      "313/313 [==============================] - 51s 164ms/step - loss: 0.5671 - accuracy: 0.7150 - val_loss: 0.4692 - val_accuracy: 0.7942\n",
      "782/782 [==============================] - 38s 49ms/step - loss: 0.4708 - accuracy: 0.7938\n",
      "\n",
      "Test Accuracy: 0.7938\n",
      "Downloading data from https://storage.googleapis.com/tensorflow/tf-keras-datasets/imdb_word_index.json\n",
      "1641221/1641221 [==============================] - 0s 0us/step\n",
      "1/1 [==============================] - 1s 591ms/step\n",
      "\n",
      "--- Sample Prediction ---\n",
      "Review text: ? please give this one a miss br br ? ? and the rest of the cast ? terrible performances the show is flat flat flat br br i don't know how michael ? could have allowed this one on his ? he almost seemed to know this wasn't going to work out and his performance was quite ? so all you ? fans give this a miss\n",
      "Predicted Sentiment: Negative\n"
     ]
    }
   ],
   "source": [
    "import numpy as np\n",
    "import tensorflow as tf\n",
    "from tensorflow.keras.datasets import imdb\n",
    "from tensorflow.keras.preprocessing.sequence import pad_sequences\n",
    "from tensorflow.keras.models import Sequential\n",
    "from tensorflow.keras.layers import Embedding, SimpleRNN, Dense\n",
    "\n",
    "# --- 1. Setup and Hyperparameters ---\n",
    "max_words = 5000  # Vocabulary size\n",
    "max_len = 200     # Max length of reviews\n",
    "\n",
    "# --- 2. Load and Preprocess Data ---\n",
    "(x_train, y_train), (x_test, y_test) = imdb.load_data(num_words=max_words)\n",
    "\n",
    "# Pad sequences to ensure uniform length\n",
    "X_train = pad_sequences(x_train, maxlen=max_len)\n",
    "X_test = pad_sequences(x_test, maxlen=max_len)\n",
    "\n",
    "# --- 3. Build the RNN Model ---\n",
    "model = Sequential()\n",
    "model.add(Embedding(input_dim=max_words, output_dim=32, input_length=max_len))\n",
    "model.add(SimpleRNN(32))\n",
    "model.add(Dense(1, activation='sigmoid')) # Sigmoid for binary classification\n",
    "\n",
    "# --- 4. Compile and Train the Model ---\n",
    "model.compile(optimizer='adam', loss='binary_crossentropy', metrics=['accuracy'])\n",
    "print(\"Training...\")\n",
    "model.fit(X_train, y_train, epochs=2, batch_size=64, validation_split=0.2)\n",
    "\n",
    "# --- 5. Evaluate the Model ---\n",
    "loss, acc = model.evaluate(X_test, y_test)\n",
    "print(f\"\\nTest Accuracy: {acc:.4f}\")\n",
    "\n",
    "# --- 6. Make a Prediction on a Sample Review ---\n",
    "# Get the word index to decode the review\n",
    "word_index = imdb.get_word_index()\n",
    "reverse_word_index = {v: k for (k, v) in word_index.items()}\n",
    "\n",
    "# **FIXED: Indentation added to the function body**\n",
    "def decode_review(review):\n",
    "    # Decodes the integer sequence back to a human-readable review\n",
    "    return \" \".join([reverse_word_index.get(i - 3, \"?\") for i in review])\n",
    "\n",
    "# Select a sample review and make a prediction\n",
    "sample_review = X_test[0]\n",
    "prediction = model.predict(sample_review.reshape(1, -1))[0][0]\n",
    "\n",
    "print(\"\\n--- Sample Prediction ---\")\n",
    "print(\"Review text:\", decode_review(x_test[0]))\n",
    "print(\"Predicted Sentiment:\", \"Positive\" if prediction > 0.5 else \"Negative\")"
   ]
  },
  {
   "cell_type": "code",
   "execution_count": null,
   "id": "118a8374",
   "metadata": {},
   "outputs": [],
   "source": []
  }
 ],
 "metadata": {
  "kernelspec": {
   "display_name": "Python 3 (ipykernel)",
   "language": "python",
   "name": "python3"
  },
  "language_info": {
   "codemirror_mode": {
    "name": "ipython",
    "version": 3
   },
   "file_extension": ".py",
   "mimetype": "text/x-python",
   "name": "python",
   "nbconvert_exporter": "python",
   "pygments_lexer": "ipython3",
   "version": "3.7.16"
  }
 },
 "nbformat": 4,
 "nbformat_minor": 5
}
